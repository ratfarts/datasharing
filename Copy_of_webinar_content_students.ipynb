{
  "nbformat": 4,
  "nbformat_minor": 0,
  "metadata": {
    "colab": {
      "name": "Copy of webinar_content_students.ipynb",
      "provenance": [],
      "include_colab_link": true
    },
    "kernelspec": {
      "name": "python3",
      "display_name": "Python 3"
    }
  },
  "cells": [
    {
      "cell_type": "markdown",
      "metadata": {
        "id": "view-in-github",
        "colab_type": "text"
      },
      "source": [
        "<a href=\"https://colab.research.google.com/github/ratfarts/datasharing/blob/master/Copy_of_webinar_content_students.ipynb\" target=\"_parent\"><img src=\"https://colab.research.google.com/assets/colab-badge.svg\" alt=\"Open In Colab\"/></a>"
      ]
    },
    {
      "cell_type": "markdown",
      "metadata": {
        "id": "upgA33i96krb",
        "colab_type": "text"
      },
      "source": [
        "<p align=\"center\">\n",
        "<img src=\"https://cdn.datacamp.com/main-app/assets/brand/datacamp-horizontal-rgb-b641f95b7bdd7560b554c761a0b4910f9619907dd823c0e41244ed72078723bf.svg\" alt = \"DataCamp icon\" width=\"50%\">\n",
        "</p>\n",
        "<br><br>\n",
        "\n",
        "## **Python for Excel Users**\n",
        "\n",
        "\n",
        "Welcome to this live, hands-on training where you will learn how to upgrade from being an Excel user to using Python. \n",
        "\n",
        "In most organizations across all industries, data fluency, technical skills and a data-driven mindset are becoming sought after skills that drive organizational success in the digital age. This shift has spurred on the adoption of tools that go beyond Excel, which allow for more robust data analysis, visualization and presentation. In this notebook, you will learn:\n",
        "\n",
        "* How to import Excel files into `pandas`.\n",
        "* Filter, add new columns, and explore DataFrames.\n",
        "* Apply common Excel operations such as pivot tables and VLOOKUP in Python.\n",
        "* Present data as visualizations using `matplotlib` and `seaborn`.\n",
        "\n",
        "The dataset to be used in this webinar is an Excel file named `sales_data_dirty.xlsx` - it contains 4 sheets, each containing the following columns:\n",
        "\n",
        "<br>\n",
        "\n",
        "\n",
        "\n",
        "![alt](https://github.com/adelnehme/python-for-excel-users-webinar/blob/master/image.png?raw=true)"
      ]
    },
    {
      "cell_type": "markdown",
      "metadata": {
        "id": "aAVUCIhQnvqx",
        "colab_type": "text"
      },
      "source": [
        "## **Getting started with the dataset**"
      ]
    },
    {
      "cell_type": "markdown",
      "metadata": {
        "id": "5mq4lDtxqLp6",
        "colab_type": "text"
      },
      "source": [
        "Similar to how you can download software (excel, tableau etc..) on your computer that allows you perform specific functions (data analysis, visualization ...) - Python has packages or modules that we download and install that allows to perform a set of tasks. We can also set aliases for these packages to shorten their name and make calling them more convenient."
      ]
    },
    {
      "cell_type": "code",
      "metadata": {
        "id": "-d04csgd6i0R",
        "colab_type": "code",
        "outputId": "df4457fb-3854-4d38-8d48-1903d8220410",
        "colab": {
          "base_uri": "https://localhost:8080/",
          "height": 71
        }
      },
      "source": [
        "# Import relevant packages\n",
        "import pandas as pd\n",
        "import matplotlib.pyplot as plt\n",
        "import seaborn as sns"
      ],
      "execution_count": 0,
      "outputs": [
        {
          "output_type": "stream",
          "text": [
            "/usr/local/lib/python3.6/dist-packages/statsmodels/tools/_testing.py:19: FutureWarning: pandas.util.testing is deprecated. Use the functions in the public API at pandas.testing instead.\n",
            "  import pandas.util.testing as tm\n"
          ],
          "name": "stderr"
        }
      ]
    },
    {
      "cell_type": "code",
      "metadata": {
        "id": "hgWlh8epiOij",
        "colab_type": "code",
        "colab": {}
      },
      "source": [
        "# Import the data\n",
        "data = pd.ExcelFile('https://github.com/adelnehme/python-for-excel-users-webinar/blob/master/sales_data_dirty.xlsx?raw=true')"
      ],
      "execution_count": 0,
      "outputs": []
    },
    {
      "cell_type": "code",
      "metadata": {
        "id": "EMa8uUlAidFk",
        "colab_type": "code",
        "outputId": "24096647-f9b6-4f71-aafc-08631754cd20",
        "colab": {
          "base_uri": "https://localhost:8080/",
          "height": 34
        }
      },
      "source": [
        "# Print the name of the sheets\n",
        "data.sheet_names"
      ],
      "execution_count": 0,
      "outputs": [
        {
          "output_type": "execute_result",
          "data": {
            "text/plain": [
              "['sales', 'customers', 'dates', 'employees']"
            ]
          },
          "metadata": {
            "tags": []
          },
          "execution_count": 5
        }
      ]
    },
    {
      "cell_type": "code",
      "metadata": {
        "id": "WlG46zdNidzz",
        "colab_type": "code",
        "outputId": "60da9d59-198d-44d4-8961-9948ecd81a3d",
        "colab": {
          "base_uri": "https://localhost:8080/",
          "height": 221
        }
      },
      "source": [
        "# Parse sales data\n",
        "sales = data.parse('sales')\n",
        "# Print dimensions and glimpse\n",
        "print(sales.shape)\n",
        "sales.head(5)"
      ],
      "execution_count": 0,
      "outputs": [
        {
          "output_type": "stream",
          "text": [
            "(31465, 5)\n"
          ],
          "name": "stdout"
        },
        {
          "output_type": "execute_result",
          "data": {
            "text/html": [
              "<div>\n",
              "<style scoped>\n",
              "    .dataframe tbody tr th:only-of-type {\n",
              "        vertical-align: middle;\n",
              "    }\n",
              "\n",
              "    .dataframe tbody tr th {\n",
              "        vertical-align: top;\n",
              "    }\n",
              "\n",
              "    .dataframe thead th {\n",
              "        text-align: right;\n",
              "    }\n",
              "</style>\n",
              "<table border=\"1\" class=\"dataframe\">\n",
              "  <thead>\n",
              "    <tr style=\"text-align: right;\">\n",
              "      <th></th>\n",
              "      <th>SalesOrderID</th>\n",
              "      <th>TotalDue</th>\n",
              "      <th>NumberofItems</th>\n",
              "      <th>OnlineOrderFlag</th>\n",
              "      <th>Status</th>\n",
              "    </tr>\n",
              "  </thead>\n",
              "  <tbody>\n",
              "    <tr>\n",
              "      <th>0</th>\n",
              "      <td>43659</td>\n",
              "      <td>23153.2339</td>\n",
              "      <td>12</td>\n",
              "      <td>0</td>\n",
              "      <td>5</td>\n",
              "    </tr>\n",
              "    <tr>\n",
              "      <th>1</th>\n",
              "      <td>43660</td>\n",
              "      <td>1457.3288</td>\n",
              "      <td>2</td>\n",
              "      <td>0</td>\n",
              "      <td>5</td>\n",
              "    </tr>\n",
              "    <tr>\n",
              "      <th>2</th>\n",
              "      <td>43661</td>\n",
              "      <td>36865.8012</td>\n",
              "      <td>15</td>\n",
              "      <td>0</td>\n",
              "      <td>5</td>\n",
              "    </tr>\n",
              "    <tr>\n",
              "      <th>3</th>\n",
              "      <td>43662</td>\n",
              "      <td>32474.9324</td>\n",
              "      <td>22</td>\n",
              "      <td>0</td>\n",
              "      <td>5</td>\n",
              "    </tr>\n",
              "    <tr>\n",
              "      <th>4</th>\n",
              "      <td>43663</td>\n",
              "      <td>472.3108</td>\n",
              "      <td>1</td>\n",
              "      <td>0</td>\n",
              "      <td>5</td>\n",
              "    </tr>\n",
              "  </tbody>\n",
              "</table>\n",
              "</div>"
            ],
            "text/plain": [
              "   SalesOrderID    TotalDue  NumberofItems  OnlineOrderFlag  Status\n",
              "0         43659  23153.2339             12                0       5\n",
              "1         43660   1457.3288              2                0       5\n",
              "2         43661  36865.8012             15                0       5\n",
              "3         43662  32474.9324             22                0       5\n",
              "4         43663    472.3108              1                0       5"
            ]
          },
          "metadata": {
            "tags": []
          },
          "execution_count": 6
        }
      ]
    },
    {
      "cell_type": "code",
      "metadata": {
        "id": "HBJhclwIijLQ",
        "colab_type": "code",
        "outputId": "5b2661b0-6448-48df-f6b0-b7ea46969091",
        "colab": {
          "base_uri": "https://localhost:8080/",
          "height": 221
        }
      },
      "source": [
        "# Parse customers data \n",
        "customers = data.parse('customers')\n",
        "# Print dimensions and glimpse\n",
        "print(customers.shape)\n",
        "customers.head(5)"
      ],
      "execution_count": 0,
      "outputs": [
        {
          "output_type": "stream",
          "text": [
            "(31465, 6)\n"
          ],
          "name": "stdout"
        },
        {
          "output_type": "execute_result",
          "data": {
            "text/html": [
              "<div>\n",
              "<style scoped>\n",
              "    .dataframe tbody tr th:only-of-type {\n",
              "        vertical-align: middle;\n",
              "    }\n",
              "\n",
              "    .dataframe tbody tr th {\n",
              "        vertical-align: top;\n",
              "    }\n",
              "\n",
              "    .dataframe thead th {\n",
              "        text-align: right;\n",
              "    }\n",
              "</style>\n",
              "<table border=\"1\" class=\"dataframe\">\n",
              "  <thead>\n",
              "    <tr style=\"text-align: right;\">\n",
              "      <th></th>\n",
              "      <th>SalesOrderID</th>\n",
              "      <th>CustomerFirstName</th>\n",
              "      <th>CustomerLastName</th>\n",
              "      <th>EmployeeFirstName</th>\n",
              "      <th>EmployeeLastName</th>\n",
              "      <th>ChannelType</th>\n",
              "    </tr>\n",
              "  </thead>\n",
              "  <tbody>\n",
              "    <tr>\n",
              "      <th>0</th>\n",
              "      <td>43659</td>\n",
              "      <td>NaN</td>\n",
              "      <td>NaN</td>\n",
              "      <td>Tsvi</td>\n",
              "      <td>Reiter</td>\n",
              "      <td>NaN</td>\n",
              "    </tr>\n",
              "    <tr>\n",
              "      <th>1</th>\n",
              "      <td>43660</td>\n",
              "      <td>NaN</td>\n",
              "      <td>NaN</td>\n",
              "      <td>Tsvi</td>\n",
              "      <td>Reiter</td>\n",
              "      <td>NaN</td>\n",
              "    </tr>\n",
              "    <tr>\n",
              "      <th>2</th>\n",
              "      <td>43661</td>\n",
              "      <td>NaN</td>\n",
              "      <td>NaN</td>\n",
              "      <td>José</td>\n",
              "      <td>Saraiva</td>\n",
              "      <td>NaN</td>\n",
              "    </tr>\n",
              "    <tr>\n",
              "      <th>3</th>\n",
              "      <td>43662</td>\n",
              "      <td>NaN</td>\n",
              "      <td>NaN</td>\n",
              "      <td>José</td>\n",
              "      <td>Saraiva</td>\n",
              "      <td>NaN</td>\n",
              "    </tr>\n",
              "    <tr>\n",
              "      <th>4</th>\n",
              "      <td>43663</td>\n",
              "      <td>NaN</td>\n",
              "      <td>NaN</td>\n",
              "      <td>Linda</td>\n",
              "      <td>Mitchell</td>\n",
              "      <td>NaN</td>\n",
              "    </tr>\n",
              "  </tbody>\n",
              "</table>\n",
              "</div>"
            ],
            "text/plain": [
              "   SalesOrderID CustomerFirstName  ... EmployeeLastName ChannelType\n",
              "0         43659               NaN  ...           Reiter         NaN\n",
              "1         43660               NaN  ...           Reiter         NaN\n",
              "2         43661               NaN  ...          Saraiva         NaN\n",
              "3         43662               NaN  ...          Saraiva         NaN\n",
              "4         43663               NaN  ...         Mitchell         NaN\n",
              "\n",
              "[5 rows x 6 columns]"
            ]
          },
          "metadata": {
            "tags": []
          },
          "execution_count": 7
        }
      ]
    },
    {
      "cell_type": "code",
      "metadata": {
        "id": "eLRqU9yVj8lk",
        "colab_type": "code",
        "outputId": "e0b98ca3-d883-4da6-f391-56463415cfbd",
        "colab": {
          "base_uri": "https://localhost:8080/",
          "height": 221
        }
      },
      "source": [
        "# Parse dates data\n",
        "dates = data.parse('dates')\n",
        "# Print dimensions and glimpse\n",
        "print(dates.shape)\n",
        "dates.head(5)\n"
      ],
      "execution_count": 0,
      "outputs": [
        {
          "output_type": "stream",
          "text": [
            "(31465, 3)\n"
          ],
          "name": "stdout"
        },
        {
          "output_type": "execute_result",
          "data": {
            "text/html": [
              "<div>\n",
              "<style scoped>\n",
              "    .dataframe tbody tr th:only-of-type {\n",
              "        vertical-align: middle;\n",
              "    }\n",
              "\n",
              "    .dataframe tbody tr th {\n",
              "        vertical-align: top;\n",
              "    }\n",
              "\n",
              "    .dataframe thead th {\n",
              "        text-align: right;\n",
              "    }\n",
              "</style>\n",
              "<table border=\"1\" class=\"dataframe\">\n",
              "  <thead>\n",
              "    <tr style=\"text-align: right;\">\n",
              "      <th></th>\n",
              "      <th>SalesOrderID</th>\n",
              "      <th>OrderDate</th>\n",
              "      <th>ShipDate</th>\n",
              "    </tr>\n",
              "  </thead>\n",
              "  <tbody>\n",
              "    <tr>\n",
              "      <th>0</th>\n",
              "      <td>43659</td>\n",
              "      <td>2011-05-31 00:00:00</td>\n",
              "      <td>2011-06-07 00:00:00</td>\n",
              "    </tr>\n",
              "    <tr>\n",
              "      <th>1</th>\n",
              "      <td>43660</td>\n",
              "      <td>2011-05-31 00:00:00</td>\n",
              "      <td>2011-06-07 00:00:00</td>\n",
              "    </tr>\n",
              "    <tr>\n",
              "      <th>2</th>\n",
              "      <td>43661</td>\n",
              "      <td>2011-05-31 00:00:00</td>\n",
              "      <td>2011-06-07 00:00:00</td>\n",
              "    </tr>\n",
              "    <tr>\n",
              "      <th>3</th>\n",
              "      <td>43662</td>\n",
              "      <td>2011-05-31 00:00:00</td>\n",
              "      <td>2011-06-07 00:00:00</td>\n",
              "    </tr>\n",
              "    <tr>\n",
              "      <th>4</th>\n",
              "      <td>43663</td>\n",
              "      <td>2011-05-31 00:00:00</td>\n",
              "      <td>2011-06-07 00:00:00</td>\n",
              "    </tr>\n",
              "  </tbody>\n",
              "</table>\n",
              "</div>"
            ],
            "text/plain": [
              "   SalesOrderID            OrderDate             ShipDate\n",
              "0         43659  2011-05-31 00:00:00  2011-06-07 00:00:00\n",
              "1         43660  2011-05-31 00:00:00  2011-06-07 00:00:00\n",
              "2         43661  2011-05-31 00:00:00  2011-06-07 00:00:00\n",
              "3         43662  2011-05-31 00:00:00  2011-06-07 00:00:00\n",
              "4         43663  2011-05-31 00:00:00  2011-06-07 00:00:00"
            ]
          },
          "metadata": {
            "tags": []
          },
          "execution_count": 9
        }
      ]
    },
    {
      "cell_type": "code",
      "metadata": {
        "id": "dzdHh12loRMq",
        "colab_type": "code",
        "outputId": "16e5c5df-5ffb-4db6-ee96-354aa89a9569",
        "colab": {
          "base_uri": "https://localhost:8080/",
          "height": 221
        }
      },
      "source": [
        "# Parse employees data\n",
        "employees = data.parse('employees')\n",
        "# Print dimensions and glimpse\n",
        "print(employees.shape)\n",
        "employees.head(5)\n"
      ],
      "execution_count": 0,
      "outputs": [
        {
          "output_type": "stream",
          "text": [
            "(17, 5)\n"
          ],
          "name": "stdout"
        },
        {
          "output_type": "execute_result",
          "data": {
            "text/html": [
              "<div>\n",
              "<style scoped>\n",
              "    .dataframe tbody tr th:only-of-type {\n",
              "        vertical-align: middle;\n",
              "    }\n",
              "\n",
              "    .dataframe tbody tr th {\n",
              "        vertical-align: top;\n",
              "    }\n",
              "\n",
              "    .dataframe thead th {\n",
              "        text-align: right;\n",
              "    }\n",
              "</style>\n",
              "<table border=\"1\" class=\"dataframe\">\n",
              "  <thead>\n",
              "    <tr style=\"text-align: right;\">\n",
              "      <th></th>\n",
              "      <th>FirstName</th>\n",
              "      <th>LastName</th>\n",
              "      <th>CountryCode</th>\n",
              "      <th>RegionName</th>\n",
              "      <th>CommissionPct</th>\n",
              "    </tr>\n",
              "  </thead>\n",
              "  <tbody>\n",
              "    <tr>\n",
              "      <th>0</th>\n",
              "      <td>Amy</td>\n",
              "      <td>Alberts</td>\n",
              "      <td>GB</td>\n",
              "      <td>United Kingdom</td>\n",
              "      <td>0.000</td>\n",
              "    </tr>\n",
              "    <tr>\n",
              "      <th>1</th>\n",
              "      <td>David</td>\n",
              "      <td>Campbell</td>\n",
              "      <td>US</td>\n",
              "      <td>Northwest</td>\n",
              "      <td>0.012</td>\n",
              "    </tr>\n",
              "    <tr>\n",
              "      <th>2</th>\n",
              "      <td>Garrett</td>\n",
              "      <td>Vargas</td>\n",
              "      <td>CA</td>\n",
              "      <td>Canada</td>\n",
              "      <td>0.010</td>\n",
              "    </tr>\n",
              "    <tr>\n",
              "      <th>3</th>\n",
              "      <td>Jae</td>\n",
              "      <td>Pak</td>\n",
              "      <td>CA</td>\n",
              "      <td>Canada</td>\n",
              "      <td>0.020</td>\n",
              "    </tr>\n",
              "    <tr>\n",
              "      <th>4</th>\n",
              "      <td>Jillian</td>\n",
              "      <td>Carson</td>\n",
              "      <td>US</td>\n",
              "      <td>Southwest</td>\n",
              "      <td>0.015</td>\n",
              "    </tr>\n",
              "  </tbody>\n",
              "</table>\n",
              "</div>"
            ],
            "text/plain": [
              "  FirstName  LastName CountryCode      RegionName  CommissionPct\n",
              "0       Amy   Alberts          GB  United Kingdom          0.000\n",
              "1     David  Campbell          US       Northwest          0.012\n",
              "2   Garrett    Vargas          CA          Canada          0.010\n",
              "3       Jae       Pak          CA          Canada          0.020\n",
              "4   Jillian    Carson          US       Southwest          0.015"
            ]
          },
          "metadata": {
            "tags": []
          },
          "execution_count": 10
        }
      ]
    },
    {
      "cell_type": "markdown",
      "metadata": {
        "id": "SOJbq0UM8Ktk",
        "colab_type": "text"
      },
      "source": [
        "## **Better understanding our data**\n"
      ]
    },
    {
      "cell_type": "markdown",
      "metadata": {
        "id": "tA-yPFUo2wd8",
        "colab_type": "text"
      },
      "source": [
        "Some important and common methods needed to get a better understanding of DataFrames are the following: \n",
        "\n",
        "- `.info()` provides a bird's eye view of column data types and missing values\n",
        "- `.describe()` returns a distribution of numeric columns in your DataFrame\n",
        "- `.unique()` gives out the number of unique values in a column"
      ]
    },
    {
      "cell_type": "code",
      "metadata": {
        "id": "yyhXh1iL4IsA",
        "colab_type": "code",
        "outputId": "0f43f693-7b60-4005-ebaf-2f072ef58298",
        "colab": {
          "base_uri": "https://localhost:8080/",
          "height": 221
        }
      },
      "source": [
        "# Understand missingness of sales data\n",
        "sales.info()"
      ],
      "execution_count": 0,
      "outputs": [
        {
          "output_type": "stream",
          "text": [
            "<class 'pandas.core.frame.DataFrame'>\n",
            "RangeIndex: 31465 entries, 0 to 31464\n",
            "Data columns (total 5 columns):\n",
            " #   Column           Non-Null Count  Dtype  \n",
            "---  ------           --------------  -----  \n",
            " 0   SalesOrderID     31465 non-null  int64  \n",
            " 1   TotalDue         31465 non-null  float64\n",
            " 2   NumberofItems    31465 non-null  int64  \n",
            " 3   OnlineOrderFlag  31465 non-null  int64  \n",
            " 4   Status           31465 non-null  int64  \n",
            "dtypes: float64(1), int64(4)\n",
            "memory usage: 1.2 MB\n"
          ],
          "name": "stdout"
        }
      ]
    },
    {
      "cell_type": "code",
      "metadata": {
        "id": "YtPmjfN54KsL",
        "colab_type": "code",
        "outputId": "d209758e-763d-4890-813f-a41f1ea7f8dc",
        "colab": {
          "base_uri": "https://localhost:8080/",
          "height": 297
        }
      },
      "source": [
        "# Understand distribution of sales data\n",
        "sales.describe()"
      ],
      "execution_count": 0,
      "outputs": [
        {
          "output_type": "execute_result",
          "data": {
            "text/html": [
              "<div>\n",
              "<style scoped>\n",
              "    .dataframe tbody tr th:only-of-type {\n",
              "        vertical-align: middle;\n",
              "    }\n",
              "\n",
              "    .dataframe tbody tr th {\n",
              "        vertical-align: top;\n",
              "    }\n",
              "\n",
              "    .dataframe thead th {\n",
              "        text-align: right;\n",
              "    }\n",
              "</style>\n",
              "<table border=\"1\" class=\"dataframe\">\n",
              "  <thead>\n",
              "    <tr style=\"text-align: right;\">\n",
              "      <th></th>\n",
              "      <th>SalesOrderID</th>\n",
              "      <th>TotalDue</th>\n",
              "      <th>NumberofItems</th>\n",
              "      <th>OnlineOrderFlag</th>\n",
              "      <th>Status</th>\n",
              "    </tr>\n",
              "  </thead>\n",
              "  <tbody>\n",
              "    <tr>\n",
              "      <th>count</th>\n",
              "      <td>31465.000000</td>\n",
              "      <td>31465.000000</td>\n",
              "      <td>31465.000000</td>\n",
              "      <td>31465.000000</td>\n",
              "      <td>31465.0</td>\n",
              "    </tr>\n",
              "    <tr>\n",
              "      <th>mean</th>\n",
              "      <td>59391.000000</td>\n",
              "      <td>3915.995109</td>\n",
              "      <td>3.855617</td>\n",
              "      <td>0.879040</td>\n",
              "      <td>5.0</td>\n",
              "    </tr>\n",
              "    <tr>\n",
              "      <th>std</th>\n",
              "      <td>9083.307446</td>\n",
              "      <td>12515.462713</td>\n",
              "      <td>7.214877</td>\n",
              "      <td>0.326086</td>\n",
              "      <td>0.0</td>\n",
              "    </tr>\n",
              "    <tr>\n",
              "      <th>min</th>\n",
              "      <td>43659.000000</td>\n",
              "      <td>1.518300</td>\n",
              "      <td>1.000000</td>\n",
              "      <td>0.000000</td>\n",
              "      <td>5.0</td>\n",
              "    </tr>\n",
              "    <tr>\n",
              "      <th>25%</th>\n",
              "      <td>51525.000000</td>\n",
              "      <td>62.951900</td>\n",
              "      <td>1.000000</td>\n",
              "      <td>1.000000</td>\n",
              "      <td>5.0</td>\n",
              "    </tr>\n",
              "    <tr>\n",
              "      <th>50%</th>\n",
              "      <td>59391.000000</td>\n",
              "      <td>865.204000</td>\n",
              "      <td>2.000000</td>\n",
              "      <td>1.000000</td>\n",
              "      <td>5.0</td>\n",
              "    </tr>\n",
              "    <tr>\n",
              "      <th>75%</th>\n",
              "      <td>67257.000000</td>\n",
              "      <td>2615.490800</td>\n",
              "      <td>3.000000</td>\n",
              "      <td>1.000000</td>\n",
              "      <td>5.0</td>\n",
              "    </tr>\n",
              "    <tr>\n",
              "      <th>max</th>\n",
              "      <td>75123.000000</td>\n",
              "      <td>187487.825000</td>\n",
              "      <td>72.000000</td>\n",
              "      <td>1.000000</td>\n",
              "      <td>5.0</td>\n",
              "    </tr>\n",
              "  </tbody>\n",
              "</table>\n",
              "</div>"
            ],
            "text/plain": [
              "       SalesOrderID       TotalDue  NumberofItems  OnlineOrderFlag   Status\n",
              "count  31465.000000   31465.000000   31465.000000     31465.000000  31465.0\n",
              "mean   59391.000000    3915.995109       3.855617         0.879040      5.0\n",
              "std     9083.307446   12515.462713       7.214877         0.326086      0.0\n",
              "min    43659.000000       1.518300       1.000000         0.000000      5.0\n",
              "25%    51525.000000      62.951900       1.000000         1.000000      5.0\n",
              "50%    59391.000000     865.204000       2.000000         1.000000      5.0\n",
              "75%    67257.000000    2615.490800       3.000000         1.000000      5.0\n",
              "max    75123.000000  187487.825000      72.000000         1.000000      5.0"
            ]
          },
          "metadata": {
            "tags": []
          },
          "execution_count": 12
        }
      ]
    },
    {
      "cell_type": "code",
      "metadata": {
        "id": "Zv7IKkZ74Kzr",
        "colab_type": "code",
        "outputId": "6a8e9359-d586-4da2-d021-e20267bd3377",
        "colab": {
          "base_uri": "https://localhost:8080/",
          "height": 51
        }
      },
      "source": [
        "# Make sure Status column has no other unique values\n",
        "print(sales['Status'].unique())\n",
        "print(sales['OnlineOrderFlag'].unique())\n"
      ],
      "execution_count": 0,
      "outputs": [
        {
          "output_type": "stream",
          "text": [
            "[5]\n",
            "[0 1]\n"
          ],
          "name": "stdout"
        }
      ]
    },
    {
      "cell_type": "code",
      "metadata": {
        "id": "4LXx9pOH4Lem",
        "colab_type": "code",
        "outputId": "5ffb5a25-d6bd-4ddb-8180-41a4bb4a7f74",
        "colab": {
          "base_uri": "https://localhost:8080/",
          "height": 238
        }
      },
      "source": [
        "# Understand column types of dates and missingness\n",
        "customers.info()"
      ],
      "execution_count": 0,
      "outputs": [
        {
          "output_type": "stream",
          "text": [
            "<class 'pandas.core.frame.DataFrame'>\n",
            "RangeIndex: 31465 entries, 0 to 31464\n",
            "Data columns (total 6 columns):\n",
            " #   Column             Non-Null Count  Dtype \n",
            "---  ------             --------------  ----- \n",
            " 0   SalesOrderID       31465 non-null  int64 \n",
            " 1   CustomerFirstName  17463 non-null  object\n",
            " 2   CustomerLastName   17463 non-null  object\n",
            " 3   EmployeeFirstName  3806 non-null   object\n",
            " 4   EmployeeLastName   3806 non-null   object\n",
            " 5   ChannelType        17463 non-null  object\n",
            "dtypes: int64(1), object(5)\n",
            "memory usage: 1.4+ MB\n"
          ],
          "name": "stdout"
        }
      ]
    },
    {
      "cell_type": "code",
      "metadata": {
        "id": "Di0X2oT04Lcd",
        "colab_type": "code",
        "colab": {}
      },
      "source": [
        "# Let's understand the degree of missingness in customers dataset\n"
      ],
      "execution_count": 0,
      "outputs": []
    },
    {
      "cell_type": "code",
      "metadata": {
        "id": "RPAMIxLxS7aO",
        "colab_type": "code",
        "outputId": "4743fe82-c985-4bf5-a922-c6c1f00250cc",
        "colab": {
          "base_uri": "https://localhost:8080/",
          "height": 136
        }
      },
      "source": [
        "# How to find missing values?\n",
        "customers.isna().sum()"
      ],
      "execution_count": 0,
      "outputs": [
        {
          "output_type": "execute_result",
          "data": {
            "text/plain": [
              "SalesOrderID             0\n",
              "CustomerFirstName    14002\n",
              "CustomerLastName     14002\n",
              "EmployeeFirstName    27659\n",
              "EmployeeLastName     27659\n",
              "ChannelType          14002\n",
              "dtype: int64"
            ]
          },
          "metadata": {
            "tags": []
          },
          "execution_count": 17
        }
      ]
    },
    {
      "cell_type": "markdown",
      "metadata": {
        "id": "W23hMUxKErvf",
        "colab_type": "text"
      },
      "source": [
        "## **Making our data analysis ready**\n"
      ]
    },
    {
      "cell_type": "code",
      "metadata": {
        "id": "6wZ7nyJj4LaW",
        "colab_type": "code",
        "outputId": "6b5b043c-cbc5-49a6-9068-fa4eb599be3a",
        "colab": {
          "base_uri": "https://localhost:8080/",
          "height": 204
        }
      },
      "source": [
        "# Drop status column from sales\n",
        "\n",
        "sales.drop('Status', axis = 1, inplace = True)\n",
        "sales.info()"
      ],
      "execution_count": 0,
      "outputs": [
        {
          "output_type": "stream",
          "text": [
            "<class 'pandas.core.frame.DataFrame'>\n",
            "RangeIndex: 31465 entries, 0 to 31464\n",
            "Data columns (total 4 columns):\n",
            " #   Column           Non-Null Count  Dtype  \n",
            "---  ------           --------------  -----  \n",
            " 0   SalesOrderID     31465 non-null  int64  \n",
            " 1   TotalDue         31465 non-null  float64\n",
            " 2   NumberofItems    31465 non-null  int64  \n",
            " 3   OnlineOrderFlag  31465 non-null  int64  \n",
            "dtypes: float64(1), int64(3)\n",
            "memory usage: 983.4 KB\n"
          ],
          "name": "stdout"
        }
      ]
    },
    {
      "cell_type": "markdown",
      "metadata": {
        "id": "0Ct6r5WXhVDS",
        "colab_type": "text"
      },
      "source": [
        "***A note on dictionaries***\n",
        "\n",
        "Dictionaries are useful data structures in Python with the following format `my_dictionary = {key: value}` where a key is mapped to a value and whose value can be returned with `my_dictionary[key]`.\n"
      ]
    },
    {
      "cell_type": "code",
      "metadata": {
        "id": "KF6zCX3qhbJu",
        "colab_type": "code",
        "outputId": "af2978a0-1f63-417a-e188-665ca3822d2b",
        "colab": {
          "base_uri": "https://localhost:8080/",
          "height": 34
        }
      },
      "source": [
        "# Example\n",
        "names = {'first_name':'Adel',\n",
        "         'last_name': 'Nehme'}\n",
        "\n",
        "names['first_name']"
      ],
      "execution_count": 0,
      "outputs": [
        {
          "output_type": "execute_result",
          "data": {
            "text/plain": [
              "'Adel'"
            ]
          },
          "metadata": {
            "tags": []
          },
          "execution_count": 5
        }
      ]
    },
    {
      "cell_type": "code",
      "metadata": {
        "id": "3b1XNVRd4LY8",
        "colab_type": "code",
        "outputId": "3d92f5e5-96d6-4719-e6bf-1e7c18ff8892",
        "colab": {
          "base_uri": "https://localhost:8080/",
          "height": 34
        }
      },
      "source": [
        "# Replace OnlineOrderFlag to offline and online\n",
        "\n",
        "sales['OnlineOrderFlag'] = sales['OnlineOrderFlag'].replace({0: 'offline', 1: 'online'})\n",
        "# Make sure it is the case\n",
        "sales['OnlineOrderFlag'].unique()"
      ],
      "execution_count": 0,
      "outputs": [
        {
          "output_type": "execute_result",
          "data": {
            "text/plain": [
              "array(['offline', 'online'], dtype=object)"
            ]
          },
          "metadata": {
            "tags": []
          },
          "execution_count": 20
        }
      ]
    },
    {
      "cell_type": "code",
      "metadata": {
        "id": "SjRVVWDk4LWI",
        "colab_type": "code",
        "colab": {}
      },
      "source": [
        "# Convert data columns to datetime while keeping only Y,m,d\n",
        "\n",
        "dates['OrderDate'] = pd.to_datetime(dates['OrderDate'], format = \"%Y-%m-%d\")\n",
        "dates['ShipDate'] = pd.to_datetime(dates['ShipDate'], format = \"%Y-%m-%d\")"
      ],
      "execution_count": 0,
      "outputs": []
    },
    {
      "cell_type": "code",
      "metadata": {
        "id": "LXUpSdHX4LSq",
        "colab_type": "code",
        "outputId": "c357888d-40f5-4c33-9be0-cbacafba6553",
        "colab": {
          "base_uri": "https://localhost:8080/",
          "height": 187
        }
      },
      "source": [
        "# Make sure now into datetime\n",
        "dates.info()"
      ],
      "execution_count": 0,
      "outputs": [
        {
          "output_type": "stream",
          "text": [
            "<class 'pandas.core.frame.DataFrame'>\n",
            "RangeIndex: 31465 entries, 0 to 31464\n",
            "Data columns (total 3 columns):\n",
            " #   Column        Non-Null Count  Dtype         \n",
            "---  ------        --------------  -----         \n",
            " 0   SalesOrderID  31465 non-null  int64         \n",
            " 1   OrderDate     31465 non-null  datetime64[ns]\n",
            " 2   ShipDate      31465 non-null  datetime64[ns]\n",
            "dtypes: datetime64[ns](2), int64(1)\n",
            "memory usage: 737.6 KB\n"
          ],
          "name": "stdout"
        }
      ]
    },
    {
      "cell_type": "code",
      "metadata": {
        "id": "u1ND9J_54LNq",
        "colab_type": "code",
        "colab": {}
      },
      "source": [
        "# Impute missing values based on key business assumptions\n",
        "customers.loc[customers['EmployeeFirstName'].isnull(), 'ChannelType'] = \"B2C\"\n",
        "customers.loc[customers['EmployeeFirstName'].notnull(), 'ChannelType'] = \"B2B\"\n"
      ],
      "execution_count": 0,
      "outputs": []
    },
    {
      "cell_type": "code",
      "metadata": {
        "id": "3KxSjVAU4LLF",
        "colab_type": "code",
        "outputId": "4690ddc1-c086-4db2-fee0-3fdd3082bb5d",
        "colab": {
          "base_uri": "https://localhost:8080/",
          "height": 136
        }
      },
      "source": [
        "# Make sure no more missing data in ChannelType\n",
        "customers.isna().sum()"
      ],
      "execution_count": 0,
      "outputs": [
        {
          "output_type": "execute_result",
          "data": {
            "text/plain": [
              "SalesOrderID             0\n",
              "CustomerFirstName    14002\n",
              "CustomerLastName     14002\n",
              "EmployeeFirstName    27659\n",
              "EmployeeLastName     27659\n",
              "ChannelType              0\n",
              "dtype: int64"
            ]
          },
          "metadata": {
            "tags": []
          },
          "execution_count": 25
        }
      ]
    },
    {
      "cell_type": "code",
      "metadata": {
        "id": "BBPuJn114LIW",
        "colab_type": "code",
        "outputId": "c5894b18-d35d-409a-ae1b-1ac6cc4ec27e",
        "colab": {
          "base_uri": "https://localhost:8080/",
          "height": 204
        }
      },
      "source": [
        "# Combine first and last name in customers\n",
        "customers['FullName'] = customers['EmployeeFirstName'] + \" \" + customers['EmployeeLastName']\n",
        "customers.head()"
      ],
      "execution_count": 0,
      "outputs": [
        {
          "output_type": "execute_result",
          "data": {
            "text/html": [
              "<div>\n",
              "<style scoped>\n",
              "    .dataframe tbody tr th:only-of-type {\n",
              "        vertical-align: middle;\n",
              "    }\n",
              "\n",
              "    .dataframe tbody tr th {\n",
              "        vertical-align: top;\n",
              "    }\n",
              "\n",
              "    .dataframe thead th {\n",
              "        text-align: right;\n",
              "    }\n",
              "</style>\n",
              "<table border=\"1\" class=\"dataframe\">\n",
              "  <thead>\n",
              "    <tr style=\"text-align: right;\">\n",
              "      <th></th>\n",
              "      <th>SalesOrderID</th>\n",
              "      <th>CustomerFirstName</th>\n",
              "      <th>CustomerLastName</th>\n",
              "      <th>EmployeeFirstName</th>\n",
              "      <th>EmployeeLastName</th>\n",
              "      <th>ChannelType</th>\n",
              "      <th>FullName</th>\n",
              "    </tr>\n",
              "  </thead>\n",
              "  <tbody>\n",
              "    <tr>\n",
              "      <th>0</th>\n",
              "      <td>43659</td>\n",
              "      <td>NaN</td>\n",
              "      <td>NaN</td>\n",
              "      <td>Tsvi</td>\n",
              "      <td>Reiter</td>\n",
              "      <td>B2B</td>\n",
              "      <td>Tsvi Reiter</td>\n",
              "    </tr>\n",
              "    <tr>\n",
              "      <th>1</th>\n",
              "      <td>43660</td>\n",
              "      <td>NaN</td>\n",
              "      <td>NaN</td>\n",
              "      <td>Tsvi</td>\n",
              "      <td>Reiter</td>\n",
              "      <td>B2B</td>\n",
              "      <td>Tsvi Reiter</td>\n",
              "    </tr>\n",
              "    <tr>\n",
              "      <th>2</th>\n",
              "      <td>43661</td>\n",
              "      <td>NaN</td>\n",
              "      <td>NaN</td>\n",
              "      <td>José</td>\n",
              "      <td>Saraiva</td>\n",
              "      <td>B2B</td>\n",
              "      <td>José Saraiva</td>\n",
              "    </tr>\n",
              "    <tr>\n",
              "      <th>3</th>\n",
              "      <td>43662</td>\n",
              "      <td>NaN</td>\n",
              "      <td>NaN</td>\n",
              "      <td>José</td>\n",
              "      <td>Saraiva</td>\n",
              "      <td>B2B</td>\n",
              "      <td>José Saraiva</td>\n",
              "    </tr>\n",
              "    <tr>\n",
              "      <th>4</th>\n",
              "      <td>43663</td>\n",
              "      <td>NaN</td>\n",
              "      <td>NaN</td>\n",
              "      <td>Linda</td>\n",
              "      <td>Mitchell</td>\n",
              "      <td>B2B</td>\n",
              "      <td>Linda Mitchell</td>\n",
              "    </tr>\n",
              "  </tbody>\n",
              "</table>\n",
              "</div>"
            ],
            "text/plain": [
              "   SalesOrderID CustomerFirstName  ... ChannelType        FullName\n",
              "0         43659               NaN  ...         B2B     Tsvi Reiter\n",
              "1         43660               NaN  ...         B2B     Tsvi Reiter\n",
              "2         43661               NaN  ...         B2B    José Saraiva\n",
              "3         43662               NaN  ...         B2B    José Saraiva\n",
              "4         43663               NaN  ...         B2B  Linda Mitchell\n",
              "\n",
              "[5 rows x 7 columns]"
            ]
          },
          "metadata": {
            "tags": []
          },
          "execution_count": 26
        }
      ]
    },
    {
      "cell_type": "code",
      "metadata": {
        "id": "uL_a6Z3irY7G",
        "colab_type": "code",
        "outputId": "0d19361b-9771-40ea-9c1c-84e324e4e22d",
        "colab": {
          "base_uri": "https://localhost:8080/",
          "height": 204
        }
      },
      "source": [
        "# Combine first and last name in employees\n",
        "employees['FullName'] = employees['FirstName'] + \" \" + employees['LastName']\n",
        "employees.head()"
      ],
      "execution_count": 0,
      "outputs": [
        {
          "output_type": "execute_result",
          "data": {
            "text/html": [
              "<div>\n",
              "<style scoped>\n",
              "    .dataframe tbody tr th:only-of-type {\n",
              "        vertical-align: middle;\n",
              "    }\n",
              "\n",
              "    .dataframe tbody tr th {\n",
              "        vertical-align: top;\n",
              "    }\n",
              "\n",
              "    .dataframe thead th {\n",
              "        text-align: right;\n",
              "    }\n",
              "</style>\n",
              "<table border=\"1\" class=\"dataframe\">\n",
              "  <thead>\n",
              "    <tr style=\"text-align: right;\">\n",
              "      <th></th>\n",
              "      <th>FirstName</th>\n",
              "      <th>LastName</th>\n",
              "      <th>CountryCode</th>\n",
              "      <th>RegionName</th>\n",
              "      <th>CommissionPct</th>\n",
              "      <th>FullName</th>\n",
              "    </tr>\n",
              "  </thead>\n",
              "  <tbody>\n",
              "    <tr>\n",
              "      <th>0</th>\n",
              "      <td>Amy</td>\n",
              "      <td>Alberts</td>\n",
              "      <td>GB</td>\n",
              "      <td>United Kingdom</td>\n",
              "      <td>0.000</td>\n",
              "      <td>Amy Alberts</td>\n",
              "    </tr>\n",
              "    <tr>\n",
              "      <th>1</th>\n",
              "      <td>David</td>\n",
              "      <td>Campbell</td>\n",
              "      <td>US</td>\n",
              "      <td>Northwest</td>\n",
              "      <td>0.012</td>\n",
              "      <td>David Campbell</td>\n",
              "    </tr>\n",
              "    <tr>\n",
              "      <th>2</th>\n",
              "      <td>Garrett</td>\n",
              "      <td>Vargas</td>\n",
              "      <td>CA</td>\n",
              "      <td>Canada</td>\n",
              "      <td>0.010</td>\n",
              "      <td>Garrett Vargas</td>\n",
              "    </tr>\n",
              "    <tr>\n",
              "      <th>3</th>\n",
              "      <td>Jae</td>\n",
              "      <td>Pak</td>\n",
              "      <td>CA</td>\n",
              "      <td>Canada</td>\n",
              "      <td>0.020</td>\n",
              "      <td>Jae Pak</td>\n",
              "    </tr>\n",
              "    <tr>\n",
              "      <th>4</th>\n",
              "      <td>Jillian</td>\n",
              "      <td>Carson</td>\n",
              "      <td>US</td>\n",
              "      <td>Southwest</td>\n",
              "      <td>0.015</td>\n",
              "      <td>Jillian Carson</td>\n",
              "    </tr>\n",
              "  </tbody>\n",
              "</table>\n",
              "</div>"
            ],
            "text/plain": [
              "  FirstName  LastName  ... CommissionPct        FullName\n",
              "0       Amy   Alberts  ...         0.000     Amy Alberts\n",
              "1     David  Campbell  ...         0.012  David Campbell\n",
              "2   Garrett    Vargas  ...         0.010  Garrett Vargas\n",
              "3       Jae       Pak  ...         0.020         Jae Pak\n",
              "4   Jillian    Carson  ...         0.015  Jillian Carson\n",
              "\n",
              "[5 rows x 6 columns]"
            ]
          },
          "metadata": {
            "tags": []
          },
          "execution_count": 28
        }
      ]
    },
    {
      "cell_type": "markdown",
      "metadata": {
        "id": "AOuJPAJO5N1t",
        "colab_type": "text"
      },
      "source": [
        "### Q&A time!"
      ]
    },
    {
      "cell_type": "markdown",
      "metadata": {
        "id": "qW0SStg_E-nJ",
        "colab_type": "text"
      },
      "source": [
        "## **Case studies**"
      ]
    },
    {
      "cell_type": "markdown",
      "metadata": {
        "id": "GDQpEkCImzL9",
        "colab_type": "text"
      },
      "source": [
        "### _Q1: How did we do in revenue over the years?_"
      ]
    },
    {
      "cell_type": "markdown",
      "metadata": {
        "id": "mfBFUvPQXZyZ",
        "colab_type": "text"
      },
      "source": [
        "Since we have revenue data for each `SalesOrderID` in the `sales` sheet - and the order date and ship date for each `SalesOrderID` in hte `dates` sheet - we want to combine both DataFrames similar to how a VLOOKUP would work. \n",
        "\n",
        "<br>\n",
        "\n",
        "<p align=\"center\">\n",
        "<img src=\"https://github.com/adelnehme/python-for-excel-users-webinar/blob/master/pivots.png?raw=True\" alt = \"pivot\" width=\"70%\">\n",
        "</p>\n",
        "\n",
        "<br><br>\n",
        "\n",
        "In more technical terms, we want to perform of left join of both DataFrames where `SalesOrderId` is a common column between them.\n",
        "\n",
        "\n",
        "<p align=\"center\">\n",
        "<img src=\"https://github.com/adelnehme/python-for-excel-users-webinar/blob/master/left_join.png?raw=True\" alt = \"DataCamp icon\" width=\"50%\">\n",
        "</p>\n",
        "\n",
        "\n",
        "\n",
        "\n",
        "\n",
        "An example of how to merge a DataFrame in pandas is included below with the `.merge()` method, where we are merging `df_2` into `df_1` on a common column between them called `common_column`. The `how` argument determines which DataFrame to preserve - in this case it's `df_1` since it's on the **left**. This has the same logic as SQL joins as well.\n",
        "\n",
        "`df_1.merge(df_2, on = 'common_column', how = 'left')`\n"
      ]
    },
    {
      "cell_type": "code",
      "metadata": {
        "id": "GdhvX_CB4LF5",
        "colab_type": "code",
        "colab": {}
      },
      "source": [
        "# Merge data - the VLOOKUP of Excel\n",
        "\n"
      ],
      "execution_count": 0,
      "outputs": []
    },
    {
      "cell_type": "code",
      "metadata": {
        "id": "2L-Efjpx4LDN",
        "colab_type": "code",
        "colab": {}
      },
      "source": [
        "# Create column for year and month\n",
        "\n"
      ],
      "execution_count": 0,
      "outputs": []
    },
    {
      "cell_type": "markdown",
      "metadata": {
        "id": "j8YLYLe4Zs_d",
        "colab_type": "text"
      },
      "source": [
        "To calculate the total revenue per year, we need to perform something like a PIVOT TABLE in Excel. In pandas, there's a variety of ways to acheive this - there is even a `.pivot_table()` method. However we will be using instead the `.groupby()` method which takes in as argument the column name being grouped by, and can be chained with other methods to compute interesting statistics. Here's an example of grouping by the column `col_A` of the example DataFrame `df_1` and computing the sum of the remaining columns:\n",
        "\n",
        "`df_1.groupby('col_A').sum()`"
      ]
    },
    {
      "cell_type": "code",
      "metadata": {
        "id": "NLpVQ5OY4LAp",
        "colab_type": "code",
        "colab": {}
      },
      "source": [
        "# Extract revenue by year\n",
        "\n"
      ],
      "execution_count": 0,
      "outputs": []
    },
    {
      "cell_type": "markdown",
      "metadata": {
        "id": "0Cp3cw-ha_rV",
        "colab_type": "text"
      },
      "source": [
        "There are many ways to perform visualizations in Python - the two most widely used visualization packages are `seaborn` (which is usually imported as `sns`) and `matplotlib.pyplot` (which is usually imported as `plt`). \n",
        "\n",
        "Without going into the details, we will be creating and customizing two types of visualizations in this notebook by using these functions:\n",
        "\n",
        "- Barplots using `sns.barplot(x=,y=,data=)`\n",
        "  - `x`: The column name to be used on the x-axis.\n",
        "  - `y`: The column name to be used on the y-axis.\n",
        "  - `data`: The data used to visualize\n",
        "- Lineplots using `sns.lineplot(x=,y=,data=)`\n",
        "  - `x`: The column name to be used on the x-axis.\n",
        "  - `y`: The column name to be used on the y-axis.\n",
        "  - `data`: The data used to visualize\n",
        "- Setting figure labels by:\n",
        "  - `plt.xlabel()` to set the x-axis label.\n",
        "  - `plt.ylabel()` to set the y-axis label.\n",
        "  - `plt.title()` to set the x-axis label.\n",
        "  - `plt.xticks(rotation=)` to set the x-axis ticks with proper rotation\n",
        "- Showing the plot with `plt.show()`"
      ]
    },
    {
      "cell_type": "code",
      "metadata": {
        "id": "Ns-Vc_GS4K-b",
        "colab_type": "code",
        "colab": {}
      },
      "source": [
        "# Visualize it\n",
        "\n",
        "\n",
        "\n",
        "\n"
      ],
      "execution_count": 0,
      "outputs": []
    },
    {
      "cell_type": "code",
      "metadata": {
        "id": "pTdxEPc94K82",
        "colab_type": "code",
        "colab": {}
      },
      "source": [
        "# Is there seasonality?\n",
        "\n"
      ],
      "execution_count": 0,
      "outputs": []
    },
    {
      "cell_type": "code",
      "metadata": {
        "id": "awDjxQx14K7J",
        "colab_type": "code",
        "colab": {}
      },
      "source": [
        "# Visualize it\n",
        "\n",
        "\n",
        "\n",
        "\n",
        "\n",
        "\n"
      ],
      "execution_count": 0,
      "outputs": []
    },
    {
      "cell_type": "markdown",
      "metadata": {
        "id": "uIsHEbLlFGtn",
        "colab_type": "text"
      },
      "source": [
        "### _Q2: How is revenue divided by channel type overall and over time?_"
      ]
    },
    {
      "cell_type": "markdown",
      "metadata": {
        "id": "mpmB3J_Kidx0",
        "colab_type": "text"
      },
      "source": [
        "Similar to how we merged the `sales` sheet with the `dates` sheet when answering Q1, we will be merging the `sales` sheet with the `customers` sheet to get the channel type, employee and customer names for each `SalesOrderID`.\n",
        "\n",
        "<br>\n",
        "\n",
        "<p align=\"center\">\n",
        "<img src=\"https://github.com/adelnehme/python-for-excel-users-webinar/blob/master/pivots2.png?raw=True\" alt = \"pivot\" width=\"70%\">\n",
        "</p>\n",
        "\n",
        "<br>"
      ]
    },
    {
      "cell_type": "code",
      "metadata": {
        "id": "V2_olMaI4K5Q",
        "colab_type": "code",
        "colab": {}
      },
      "source": [
        "# Merge sales and customer data\n",
        "\n"
      ],
      "execution_count": 0,
      "outputs": []
    },
    {
      "cell_type": "code",
      "metadata": {
        "id": "rEDz2ZKo4KyG",
        "colab_type": "code",
        "colab": {}
      },
      "source": [
        "# Identify revenue and amount sold by channel\n",
        "\n"
      ],
      "execution_count": 0,
      "outputs": []
    },
    {
      "cell_type": "code",
      "metadata": {
        "id": "F01U4q9z4jff",
        "colab_type": "code",
        "colab": {}
      },
      "source": [
        "# Visualize\n",
        "\n",
        "\n",
        "\n",
        "\n"
      ],
      "execution_count": 0,
      "outputs": []
    },
    {
      "cell_type": "code",
      "metadata": {
        "id": "Kql3u8DH4jc4",
        "colab_type": "code",
        "colab": {}
      },
      "source": [
        "# Merge sales, dates and customers data\n",
        "\n"
      ],
      "execution_count": 0,
      "outputs": []
    },
    {
      "cell_type": "code",
      "metadata": {
        "id": "Cw4oqqKe4jaz",
        "colab_type": "code",
        "colab": {}
      },
      "source": [
        "# Group by year by channel type\n",
        "\n"
      ],
      "execution_count": 0,
      "outputs": []
    },
    {
      "cell_type": "code",
      "metadata": {
        "id": "9cWRLNkV4jYm",
        "colab_type": "code",
        "colab": {}
      },
      "source": [
        "# Visualize\n",
        "\n",
        "\n",
        "\n",
        "\n"
      ],
      "execution_count": 0,
      "outputs": []
    },
    {
      "cell_type": "markdown",
      "metadata": {
        "id": "tG5zLT6ilRUn",
        "colab_type": "text"
      },
      "source": [
        "### _Q3: Who are the employees responsible for the most B2B sales overall and in 2013?_"
      ]
    },
    {
      "cell_type": "markdown",
      "metadata": {
        "id": "gZ_gJa1UqOIK",
        "colab_type": "text"
      },
      "source": [
        "The `sales_customers_date` has already been created when we merged `sales` with `customers` and `dates` in Q1 and Q2\n",
        "\n",
        "```py\n",
        "# From Q1\n",
        "sales_date = sales.merge(dates, on=\"SalesOrderID\", how = \"left\")\n",
        "# From Q2\n",
        "sales_customers_date = sales_date.merge(customers, on = \"SalesOrderID\", how = \"left\")\n",
        "```"
      ]
    },
    {
      "cell_type": "code",
      "metadata": {
        "id": "liJNxutK4rVG",
        "colab_type": "code",
        "colab": {}
      },
      "source": [
        "# Group by employee performance\n",
        "\n"
      ],
      "execution_count": 0,
      "outputs": []
    },
    {
      "cell_type": "markdown",
      "metadata": {
        "id": "czsrlwlFlk_t",
        "colab_type": "text"
      },
      "source": [
        "To be able to truly see the highest earning employees - we can use the `.sort_values()` method of a DataFrame. For example, we can sort `col_A` of the example DataFrame `df_1` as such:\n",
        "\n",
        "`df_1.sort_values(by=,ascending=,inplace=)`\n",
        "\n",
        "* `by` takes in the column name being sorted by\n",
        "* `ascending` takes in `True` or `False` depending on whether we want to sort it by ascending order\n",
        "* `inplace` takes in `True` or `False` depending on whether we want to save our changes in the same DataFrame being sorted."
      ]
    },
    {
      "cell_type": "code",
      "metadata": {
        "id": "NBovRPzVFvoB",
        "colab_type": "code",
        "colab": {}
      },
      "source": [
        "# Sort it so we visualize it correctly\n",
        "\n"
      ],
      "execution_count": 0,
      "outputs": []
    },
    {
      "cell_type": "code",
      "metadata": {
        "id": "GCJVo_6t4rS0",
        "colab_type": "code",
        "colab": {}
      },
      "source": [
        "# Visualize\n",
        "\n",
        "\n",
        "\n",
        "\n",
        "\n",
        "\n"
      ],
      "execution_count": 0,
      "outputs": []
    },
    {
      "cell_type": "code",
      "metadata": {
        "id": "JYIPZ1TL4rPp",
        "colab_type": "code",
        "colab": {}
      },
      "source": [
        "# Group by employee performance and year\n",
        "\n"
      ],
      "execution_count": 0,
      "outputs": []
    },
    {
      "cell_type": "code",
      "metadata": {
        "id": "AYbLj8wHF7Id",
        "colab_type": "code",
        "colab": {}
      },
      "source": [
        "# Sort to make it easier to visualize\n",
        "\n"
      ],
      "execution_count": 0,
      "outputs": []
    },
    {
      "cell_type": "code",
      "metadata": {
        "id": "fCuXVq0l4rLx",
        "colab_type": "code",
        "colab": {}
      },
      "source": [
        "# Who was the best last year?\n"
      ],
      "execution_count": 0,
      "outputs": []
    },
    {
      "cell_type": "code",
      "metadata": {
        "id": "OEy96D3W4rJC",
        "colab_type": "code",
        "colab": {}
      },
      "source": [
        "# Visualize\n",
        "\n",
        "\n",
        "\n",
        "\n",
        "\n",
        "\n"
      ],
      "execution_count": 0,
      "outputs": []
    },
    {
      "cell_type": "markdown",
      "metadata": {
        "id": "pYDKDX3x6cXR",
        "colab_type": "text"
      },
      "source": [
        "### Q&A time!"
      ]
    },
    {
      "cell_type": "markdown",
      "metadata": {
        "id": "ZiWyqK7RIelL",
        "colab_type": "text"
      },
      "source": [
        "### _Take-home question: Who were the highest earning (in compensation) employees in 2012?_"
      ]
    },
    {
      "cell_type": "markdown",
      "metadata": {
        "id": "QMAuLfrnnPBq",
        "colab_type": "text"
      },
      "source": [
        "**Clues:**\n",
        "- Compensation = Sales generated * Commission\n",
        "- You need to use the all four sheets\n",
        "- Sort your results by the amount of commission earned \n",
        "\n",
        "**Bonus points if:**\n",
        "- You make your chart extra pretty\n",
        "- Use syntax not covered in this session\n",
        "\n",
        "**Submission details:**\n",
        "- Share with us a code snippet with your output on LinkedIn, Twitter or Facebook\n",
        "- Tag us on `@DataCamp` with the hashtag `#datacamplive`\n"
      ]
    }
  ]
}